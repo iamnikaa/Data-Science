{
 "cells": [
  {
   "cell_type": "markdown",
   "metadata": {},
   "source": [
    "## Assignment 1 Solutions"
   ]
  },
  {
   "cell_type": "code",
   "execution_count": 1,
   "metadata": {},
   "outputs": [],
   "source": [
    "import sys\n",
    "import numpy as np\n",
    "import pandas as pd\n",
    "import matplotlib.pyplot as plt\n",
    "import pprint\n",
    "from regression.cost_func import *\n",
    "\n",
    "pp = pprint.PrettyPrinter()"
   ]
  },
  {
   "cell_type": "code",
   "execution_count": 2,
   "metadata": {},
   "outputs": [],
   "source": [
    "data1 = pd.read_csv(\"ex1data1.txt\", sep=\",\", header=None)\n",
    "data1.head()\n",
    "data2 = pd.read_csv(\"ex1data2.txt\", sep=\",\", header=None)"
   ]
  },
  {
   "cell_type": "code",
   "execution_count": 3,
   "metadata": {},
   "outputs": [
    {
     "data": {
      "image/png": "[encoded data removed]",
      "text/plain": [
       "<Figure size 432x288 with 1 Axes>"
      ]
     },
     "metadata": {
      "needs_background": "light"
     },
     "output_type": "display_data"
    }
   ],
   "source": [
    "plt.plot(data1[0], data1[1], 'r+')\n",
    "plt.xlabel('Population of city in 10,000s')\n",
    "plt.ylabel('Profit in $10,000s')\n",
    "plt.show()\n"
   ]
  },
  {
   "cell_type": "code",
   "execution_count": 4,
   "metadata": {},
   "outputs": [],
   "source": [
    "plt.clf\n",
    "plt.cla\n",
    "plt.close()\n",
    "intercept_coeff = np.ones((len(data1)))\n",
    "data1.insert(0,'x',intercept_coeff)\n",
    "data1.columns = [0,1,2]"
   ]
  },
  {
   "cell_type": "code",
   "execution_count": 5,
   "metadata": {},
   "outputs": [],
   "source": [
    "ITERS = 1500\n",
    "ALPHA = 0.001\n",
    "TOL = 1E-3"
   ]
  },
  {
   "cell_type": "code",
   "execution_count": 53,
   "metadata": {},
   "outputs": [
    {
     "data": {
      "image/png": "[encoded data removed]",
      "text/plain": [
       "<Figure size 432x288 with 1 Axes>"
      ]
     },
     "metadata": {
      "needs_background": "light"
     },
     "output_type": "display_data"
    }
   ],
   "source": [
    "X = data1[[0,1]].values\n",
    "Y = data1[[2]].values\n",
    "theta = np.ones((2,1))\n",
    "\n",
    "theta_ne = normal_eqn(X, Y)\n",
    "Y_ne = X @ theta_ne\n",
    "\n",
    "plt.plot(X[:,1], Y, 'g*')\n",
    "plt.plot(X[:,1], Y_ne, 'bo')\n",
    "\n",
    "X_normal = scale_feature(X)\n",
    "theta_gd, COST = grad_descent(X, Y, theta, ALPHA=0.048, TOL=1E-20)\n",
    "# theta_gd, COST = grad_descent(X_normal, Y, theta, ALPHA=0.048, TOL=1E-20)\n",
    "\n",
    "Y_gd = X @ theta_gd\n",
    "\n",
    "plt.plot(X[:,1], Y_gd, 'r+')\n",
    "plt.xlabel('Population in 10,000s')\n",
    "plt.ylabel('Profit in 10,000s')\n",
    "plt.legend(['Actual Data', 'Normal Equation', 'Gradient Descent'])\n",
    "plt.show()"
   ]
  },
  {
   "cell_type": "code",
   "execution_count": 7,
   "metadata": {},
   "outputs": [
    {
     "name": "stdout",
     "output_type": "stream",
     "text": [
      "Theta from normal equation [[-3.89578088]\n",
      " [ 1.19303364]]\n",
      "Theta from gradient descent  [[-3.8957794]\n",
      " [ 1.1930335]]\n"
     ]
    }
   ],
   "source": [
    "plt.clf\n",
    "plt.cla\n",
    "plt.close()\n",
    "\n",
    "print(\"Theta from normal equation\",theta_ne)\n",
    "print(\"Theta from gradient descent \",theta_gd)"
   ]
  },
  {
   "cell_type": "markdown",
   "metadata": {},
   "source": [
    "#### Use example set 2"
   ]
  },
  {
   "cell_type": "code",
   "execution_count": 8,
   "metadata": {},
   "outputs": [
    {
     "data": {
      "text/html": [
       "<div>\n",
       "<style scoped>\n",
       "    .dataframe tbody tr th:only-of-type {\n",
       "        vertical-align: middle;\n",
       "    }\n",
       "\n",
       "    .dataframe tbody tr th {\n",
       "        vertical-align: top;\n",
       "    }\n",
       "\n",
       "    .dataframe thead th {\n",
       "        text-align: right;\n",
       "    }\n",
       "</style>\n",
       "<table border=\"1\" class=\"dataframe\">\n",
       "  <thead>\n",
       "    <tr style=\"text-align: right;\">\n",
       "      <th></th>\n",
       "      <th>0</th>\n",
       "      <th>1</th>\n",
       "      <th>2</th>\n",
       "    </tr>\n",
       "  </thead>\n",
       "  <tbody>\n",
       "    <tr>\n",
       "      <th>0</th>\n",
       "      <td>2104</td>\n",
       "      <td>3</td>\n",
       "      <td>399900</td>\n",
       "    </tr>\n",
       "    <tr>\n",
       "      <th>1</th>\n",
       "      <td>1600</td>\n",
       "      <td>3</td>\n",
       "      <td>329900</td>\n",
       "    </tr>\n",
       "    <tr>\n",
       "      <th>2</th>\n",
       "      <td>2400</td>\n",
       "      <td>3</td>\n",
       "      <td>369000</td>\n",
       "    </tr>\n",
       "    <tr>\n",
       "      <th>3</th>\n",
       "      <td>1416</td>\n",
       "      <td>2</td>\n",
       "      <td>232000</td>\n",
       "    </tr>\n",
       "    <tr>\n",
       "      <th>4</th>\n",
       "      <td>3000</td>\n",
       "      <td>4</td>\n",
       "      <td>539900</td>\n",
       "    </tr>\n",
       "  </tbody>\n",
       "</table>\n",
       "</div>"
      ],
      "text/plain": [
       "      0  1       2\n",
       "0  2104  3  399900\n",
       "1  1600  3  329900\n",
       "2  2400  3  369000\n",
       "3  1416  2  232000\n",
       "4  3000  4  539900"
      ]
     },
     "execution_count": 8,
     "metadata": {},
     "output_type": "execute_result"
    }
   ],
   "source": [
    "data2 = pd.read_csv('ex1data2.txt', header=None)\n",
    "data2.head(5)"
   ]
  },
  {
   "cell_type": "code",
   "execution_count": 9,
   "metadata": {},
   "outputs": [
    {
     "data": {
      "text/html": [
       "<div>\n",
       "<style scoped>\n",
       "    .dataframe tbody tr th:only-of-type {\n",
       "        vertical-align: middle;\n",
       "    }\n",
       "\n",
       "    .dataframe tbody tr th {\n",
       "        vertical-align: top;\n",
       "    }\n",
       "\n",
       "    .dataframe thead th {\n",
       "        text-align: right;\n",
       "    }\n",
       "</style>\n",
       "<table border=\"1\" class=\"dataframe\">\n",
       "  <thead>\n",
       "    <tr style=\"text-align: right;\">\n",
       "      <th></th>\n",
       "      <th>0</th>\n",
       "      <th>1</th>\n",
       "      <th>2</th>\n",
       "      <th>3</th>\n",
       "    </tr>\n",
       "  </thead>\n",
       "  <tbody>\n",
       "    <tr>\n",
       "      <th>0</th>\n",
       "      <td>1.0</td>\n",
       "      <td>2104</td>\n",
       "      <td>3</td>\n",
       "      <td>399900</td>\n",
       "    </tr>\n",
       "    <tr>\n",
       "      <th>1</th>\n",
       "      <td>1.0</td>\n",
       "      <td>1600</td>\n",
       "      <td>3</td>\n",
       "      <td>329900</td>\n",
       "    </tr>\n",
       "    <tr>\n",
       "      <th>2</th>\n",
       "      <td>1.0</td>\n",
       "      <td>2400</td>\n",
       "      <td>3</td>\n",
       "      <td>369000</td>\n",
       "    </tr>\n",
       "    <tr>\n",
       "      <th>3</th>\n",
       "      <td>1.0</td>\n",
       "      <td>1416</td>\n",
       "      <td>2</td>\n",
       "      <td>232000</td>\n",
       "    </tr>\n",
       "    <tr>\n",
       "      <th>4</th>\n",
       "      <td>1.0</td>\n",
       "      <td>3000</td>\n",
       "      <td>4</td>\n",
       "      <td>539900</td>\n",
       "    </tr>\n",
       "  </tbody>\n",
       "</table>\n",
       "</div>"
      ],
      "text/plain": [
       "     0     1  2       3\n",
       "0  1.0  2104  3  399900\n",
       "1  1.0  1600  3  329900\n",
       "2  1.0  2400  3  369000\n",
       "3  1.0  1416  2  232000\n",
       "4  1.0  3000  4  539900"
      ]
     },
     "execution_count": 9,
     "metadata": {},
     "output_type": "execute_result"
    }
   ],
   "source": [
    "data2.insert(0, 'x', np.ones((len(data2))))\n",
    "data2.columns = [0, 1, 2, 3]\n",
    "data2.head(5)"
   ]
  },
  {
   "cell_type": "code",
   "execution_count": 22,
   "metadata": {},
   "outputs": [],
   "source": [
    "X = data2[[0,1,2]].values\n",
    "Y = data2[[3]].values"
   ]
  },
  {
   "cell_type": "code",
   "execution_count": 51,
   "metadata": {},
   "outputs": [
    {
     "name": "stdout",
     "output_type": "stream",
     "text": [
      "Theta from normal equation is [[89597.90954361]\n",
      " [  139.21067402]\n",
      " [-8738.01911255]], theta from gradient descent is [[340412.65957217]\n",
      " [109447.07973871]\n",
      " [ -6577.63812323]]\n"
     ]
    },
    {
     "data": {
      "image/png": "[encoded data removed]",
      "text/plain": [
       "<Figure size 432x288 with 1 Axes>"
      ]
     },
     "metadata": {
      "needs_background": "light"
     },
     "output_type": "display_data"
    }
   ],
   "source": [
    "theta_init = np.ones((3,1))\n",
    "theta_ne2 = normal_eqn(X, Y)\n",
    "X_norm = scale_feature(X)\n",
    "\n",
    "theta_gd2, cost = grad_descent(X_norm, Y, theta_init, ALPHA=0.01)\n",
    "\n",
    "print(f'Theta from normal equation is {theta_ne2}, theta from gradient descent is {theta_gd2}')\n",
    "\n",
    "plt.plot(range(5132), cost, 'r+')\n",
    "plt.xlabel('Iterations')\n",
    "plt.ylabel('Cost Function')\n",
    "plt.show()\n",
    "plt.clf()\n",
    "plt.cla()\n",
    "plt.close()\n"
   ]
  },
  {
   "cell_type": "code",
   "execution_count": 49,
   "metadata": {},
   "outputs": [
    {
     "data": {
      "image/png": "[encoded data removed]",
      "text/plain": [
       "<Figure size 432x288 with 1 Axes>"
      ]
     },
     "metadata": {
      "needs_background": "light"
     },
     "output_type": "display_data"
    }
   ],
   "source": [
    "Y_ne2 = X @ theta_ne2\n",
    "Y_gd2 = X_norm @ theta_gd2\n",
    "\n",
    "plt.plot(X[:,1], Y, 'go')\n",
    "plt.plot(X[:,1], Y_ne2, 'b+')\n",
    "plt.plot(X[:,1], Y_gd2, 'rx')\n",
    "plt.xlabel('House area in sqft')\n",
    "plt.ylabel('Cost')\n",
    "plt.legend(['Actual Data', 'Normal Equation', 'Gradient Descent'])\n",
    "plt.show()\n",
    "plt.cla()\n",
    "plt.close()"
   ]
  }
 ],
 "metadata": {
  "interpreter": {
   "hash": "23c2120a968eeaf10a776651a09c3892375bd9f98eefec556d0f4b3a2201513e"
  },
  "kernelspec": {
   "display_name": "Python 3.6.5 64-bit ('base': conda)",
   "language": "python",
   "name": "python3"
  },
  "language_info": {
   "codemirror_mode": {
    "name": "ipython",
    "version": 3
   },
   "file_extension": ".py",
   "mimetype": "text/x-python",
   "name": "python",
   "nbconvert_exporter": "python",
   "pygments_lexer": "ipython3",
   "version": "3.6.5"
  },
  "orig_nbformat": 4
 },
 "nbformat": 4,
 "nbformat_minor": 2
}
